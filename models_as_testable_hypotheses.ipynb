{
  "cells": [
    {
      "cell_type": "markdown",
      "metadata": {
        "id": "gYJnNq4rA9nV"
      },
      "source": [
        "# Exercise 2: Coding Habits & Functions"
      ]
    },
    {
      "cell_type": "markdown",
      "metadata": {
        "id": "aJozW79yA9nd"
      },
      "source": [
        "This assignment will give you some practice writing your own functions and using the coding best practices discussed in the tutorial.\n",
        "\n",
        "---"
      ]
    },
    {
      "cell_type": "markdown",
      "metadata": {
        "id": "WphP3L3SA9ne"
      },
      "source": [
        "## 1. Summary statistics (4 pts)\n",
        "\n",
        "Write a function that takes a vector of numbers `x` and returns the length, mean, and standard deviation of `x` as a new vector.\n",
        "\n",
        "In keeping with our best practices, give the function a short but descriptive name, and use snake case if it involves multiple words.\n",
        "\n",
        "Hint: Vectors are defined in R using the `c()` command."
      ]
    },
    {
      "cell_type": "code",
      "execution_count": 9,
      "metadata": {
        "id": "2Z5ZP_W_A9nf"
      },
      "outputs": [
        {
          "name": "stdout",
          "output_type": "stream",
          "text": [
            "[1] \"The length of this vector is 4 and has a mean of 31.25 and a SD of 49.4460985990469.\"\n"
          ]
        }
      ],
      "source": [
        "#Write your function here\n",
        "x <- c(105, 2, 4, 14)\n",
        "\n",
        "descriptive_func <- function(x){\n",
        "  new_x <- na.omit(x)\n",
        "  length_vec <- length(new_x)\n",
        "  avg_vec <- mean(new_x, na.rm = T)\n",
        "  std_dev_vec <- sd(new_x, na.rm = T)\n",
        "  return(print(paste0(\"The length of this vector is \", length_vec, \" and has a mean of \", avg_vec, \" and a SD of \", std_dev_vec, \".\")))\n",
        "}\n",
        "\n",
        "descriptive_func(x)"
      ]
    },
    {
      "cell_type": "markdown",
      "metadata": {
        "id": "v3rr9aoBA9nj"
      },
      "source": [
        "Calculate the summary statistics of vector `v1`.\n",
        "\n",
        "*Hint*: Note the \"NA\" in the vector. This is short for \"not available\" and is a placeholder for missing values. You'll want to look up the _is.na_ function (and the not operator _!_), as well as options for removing NA's in the functions that you will use to summarize the vector. Look at the documentation for the functions that you will use to see how to work with NA's."
      ]
    },
    {
      "cell_type": "code",
      "execution_count": 11,
      "metadata": {
        "id": "FXD1UBB3A9nk"
      },
      "outputs": [
        {
          "name": "stdout",
          "output_type": "stream",
          "text": [
            "[1] \"The length of this vector is 5 and has a mean of 7.75 and a SD of 2.75378527364305.\"\n"
          ]
        }
      ],
      "source": [
        "v1  <- c(5, 11, 6, NA, 9)\n",
        "descriptive_func(v1)\n",
        "#your_function_name(v1)"
      ]
    },
    {
      "cell_type": "markdown",
      "metadata": {
        "id": "6myQm31GA9nl"
      },
      "source": [
        "---\n",
        "## 2. T-test function (4 pts)\n",
        "\n",
        "The formula for a t-test is:"
      ]
    },
    {
      "cell_type": "markdown",
      "metadata": {
        "id": "gmJhwEWCA9nl"
      },
      "source": [
        "$$ \\frac{m- \\mu}{ \\frac{s}{\\sqrt{n}}} $$"
      ]
    },
    {
      "cell_type": "markdown",
      "metadata": {
        "id": "Vsp55T3mA9nm"
      },
      "source": [
        "Where m is the sample mean, $\\mu$ (mu) is the population mean, s is the standard deviation, and n is the sample size.\n",
        "\n",
        "Using your function above as a starting point, write a new function `ttest_fun` that compares a vector `x` to a given population mean `mu` and calculates the t-statistic. Keep the coding best practices in mind.\n",
        "\n",
        "Hint: You will need to add another argument for mu."
      ]
    },
    {
      "cell_type": "code",
      "execution_count": 3,
      "metadata": {
        "id": "yJh3yAwsA9nm"
      },
      "outputs": [],
      "source": [
        "# Write ttest_fun here\n",
        "ttest_fun <- function(sample, mu){\n",
        "   new_sample <- na.omit(sample)\n",
        "   t_val <- (mean(new_sample, na.rm = T) - mu)/((sd(new_sample, na.rm=TRUE))/sqrt(length(new_sample)))\n",
        "   return(t_val)\n",
        "}"
      ]
    },
    {
      "cell_type": "markdown",
      "metadata": {
        "id": "RqioTLKTA9nn"
      },
      "source": [
        "Use your function to compare the mean of v1 to 10."
      ]
    },
    {
      "cell_type": "code",
      "execution_count": 4,
      "metadata": {
        "id": "-ionj8hLA9nn"
      },
      "outputs": [
        {
          "data": {
            "text/html": [
              "-1.82699537161759"
            ],
            "text/latex": [
              "-1.82699537161759"
            ],
            "text/markdown": [
              "-1.82699537161759"
            ],
            "text/plain": [
              "[1] -1.826995"
            ]
          },
          "metadata": {},
          "output_type": "display_data"
        }
      ],
      "source": [
        "ttest_fun(v1, 10)"
      ]
    },
    {
      "cell_type": "markdown",
      "metadata": {
        "id": "wwKuiGopA9no"
      },
      "source": [
        "---\n",
        "## 3. Setting default values (2 pts)\n",
        "\n",
        "Set the default value of mu to 0. Test your modified function below by supplying only `v2` as an argument."
      ]
    },
    {
      "cell_type": "code",
      "execution_count": 5,
      "metadata": {
        "id": "fixSFDgkA9no"
      },
      "outputs": [],
      "source": [
        "# Write your modified ttest_fun here\n",
        "ttest_fun <- function(sample){\n",
        "    new_sample <- na.omit(sample)\n",
        "    mu <- 0\n",
        "   t_val <- (mean(new_sample, na.rm = T) - mu)/((sd(new_sample, na.rm=T))/sqrt(length(new_sample)))\n",
        "   return(t_val)\n",
        "}"
      ]
    },
    {
      "cell_type": "code",
      "execution_count": 6,
      "metadata": {
        "id": "z_-io2Y8A9np"
      },
      "outputs": [
        {
          "data": {
            "text/html": [
              "3.51193534102953"
            ],
            "text/latex": [
              "3.51193534102953"
            ],
            "text/markdown": [
              "3.51193534102953"
            ],
            "text/plain": [
              "[1] 3.511935"
            ]
          },
          "metadata": {},
          "output_type": "display_data"
        }
      ],
      "source": [
        "v2 <- c(3, 7, 1, NA, 8, 12)\n",
        "ttest_fun(v2)"
      ]
    },
    {
      "cell_type": "markdown",
      "metadata": {
        "id": "TCQCvDpaA9nq"
      },
      "source": [
        "How does your result compare to R's built-in `t.test()` function?"
      ]
    },
    {
      "cell_type": "code",
      "execution_count": 7,
      "metadata": {
        "id": "K-52JJzBA9nq",
        "scrolled": true
      },
      "outputs": [
        {
          "data": {
            "text/plain": [
              "\n",
              "\tOne Sample t-test\n",
              "\n",
              "data:  v2\n",
              "t = 3.2059, df = 4, p-value = 0.03272\n",
              "alternative hypothesis: true mean is not equal to 0\n",
              "95 percent confidence interval:\n",
              "  0.8306107 11.5693893\n",
              "sample estimates:\n",
              "mean of x \n",
              "      6.2 \n"
            ]
          },
          "metadata": {},
          "output_type": "display_data"
        }
      ],
      "source": [
        "t.test(v2)"
      ]
    },
    {
      "cell_type": "markdown",
      "metadata": {
        "id": "2slWzsoYGuLt"
      },
      "source": [
        "When you are finished, save the notebook as Exercise2.ipynb, push it to your class GitHub repository (the one you made for Exercise 1) and send the instructors a link to your notebook via Canvas. You can send messages via Canvas by clicking \"Inbox\" on the left and then pressing the icon with a pencil inside a square."
      ]
    },
    {
      "cell_type": "markdown",
      "metadata": {
        "id": "C4MPECMmZXqe"
      },
      "source": [
        "**DUE:** 5pm EST, Feb 3, 2025"
      ]
    },
    {
      "cell_type": "markdown",
      "metadata": {
        "id": "r9GUofXN4BVy"
      },
      "source": [
        "**IMPORTANT** Did you collaborate with anyone on this assignment? If so, list their names here.\n",
        "> *Someone's Name*"
      ]
    }
  ],
  "metadata": {
    "colab": {
      "provenance": []
    },
    "kernelspec": {
      "display_name": "base",
      "language": "python",
      "name": "python3"
    },
    "language_info": {
      "codemirror_mode": "r",
      "file_extension": ".r",
      "mimetype": "text/x-r-source",
      "name": "python",
      "pygments_lexer": "r",
      "version": "3.8.5"
    }
  },
  "nbformat": 4,
  "nbformat_minor": 0
}
