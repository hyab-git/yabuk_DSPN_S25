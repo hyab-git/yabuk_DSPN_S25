{
  "cells": [
    {
      "cell_type": "markdown",
      "metadata": {
        "id": "view-in-github",
        "colab_type": "text"
      },
      "source": [
        "<a href=\"https://colab.research.google.com/github/hyab-git/yabuk_DSPN_S25/blob/master/data-as-objects-and-architectures.ipynb\" target=\"_parent\"><img src=\"https://colab.research.google.com/assets/colab-badge.svg\" alt=\"Open In Colab\"/></a>"
      ]
    },
    {
      "cell_type": "markdown",
      "metadata": {
        "id": "-2W919d2ZXp7"
      },
      "source": [
        "# Exercise 3: Data objects"
      ]
    },
    {
      "cell_type": "markdown",
      "source": [
        "1. Load packages 1/1\n",
        "2. Replicating summary outputs 5/5\n",
        "3. Summary table and indexing 4/4"
      ],
      "metadata": {
        "id": "5TZ_tbEhl_cF"
      }
    },
    {
      "cell_type": "markdown",
      "metadata": {
        "id": "L4nOzVhyZXqK"
      },
      "source": [
        "These exercises are designed to get you comfortable extracting information from data objects.\n",
        "\n",
        "We'll work with the `Credit` dataset which comes in the `ISLR` package in R. This is a simulated dataset that provides credit and demographic information on 10,000 hypothetical customers."
      ]
    },
    {
      "cell_type": "markdown",
      "metadata": {
        "id": "9DsyBTB6ZXqN"
      },
      "source": [
        "---\n",
        "## 1. Load packages, data, model (1 point)\n",
        "\n",
        "Install and load `ISLR` below."
      ]
    },
    {
      "cell_type": "code",
      "execution_count": null,
      "metadata": {
        "colab": {
          "base_uri": "https://localhost:8080/",
          "height": 286
        },
        "id": "UnBVazYfZXqP",
        "outputId": "8dd73df4-f1c4-4855-9525-093bfb8e7460",
        "scrolled": true,
        "vscode": {
          "languageId": "r"
        }
      },
      "outputs": [
        {
          "name": "stdout",
          "output_type": "stream",
          "text": [
            "\n",
            "The downloaded binary packages are in\n",
            "\t/var/folders/fg/26295dzx0453vrv2fyh0rtnm0000gn/T//RtmpXLGVZO/downloaded_packages\n"
          ]
        }
      ],
      "source": [
        "#install.packages(\"ISLR\")\n",
        "library(ISLR)"
      ]
    },
    {
      "cell_type": "markdown",
      "metadata": {
        "id": "A5EcVglxl-k0"
      },
      "source": [
        "Take a look at the first few rows of the `Credit` dataset."
      ]
    },
    {
      "cell_type": "code",
      "execution_count": null,
      "metadata": {
        "scrolled": true,
        "vscode": {
          "languageId": "r"
        },
        "id": "B92jBaYal-k0",
        "outputId": "ee2553e4-47f1-498a-d1a9-3d1c65501e4d"
      },
      "outputs": [
        {
          "data": {
            "text/html": [
              "<table class=\"dataframe\">\n",
              "<caption>A data.frame: 6 x 12</caption>\n",
              "<thead>\n",
              "\t<tr><th></th><th scope=col>ID</th><th scope=col>Income</th><th scope=col>Limit</th><th scope=col>Rating</th><th scope=col>Cards</th><th scope=col>Age</th><th scope=col>Education</th><th scope=col>Gender</th><th scope=col>Student</th><th scope=col>Married</th><th scope=col>Ethnicity</th><th scope=col>Balance</th></tr>\n",
              "\t<tr><th></th><th scope=col>&lt;int&gt;</th><th scope=col>&lt;dbl&gt;</th><th scope=col>&lt;int&gt;</th><th scope=col>&lt;int&gt;</th><th scope=col>&lt;int&gt;</th><th scope=col>&lt;int&gt;</th><th scope=col>&lt;int&gt;</th><th scope=col>&lt;fct&gt;</th><th scope=col>&lt;fct&gt;</th><th scope=col>&lt;fct&gt;</th><th scope=col>&lt;fct&gt;</th><th scope=col>&lt;int&gt;</th></tr>\n",
              "</thead>\n",
              "<tbody>\n",
              "\t<tr><th scope=row>1</th><td>1</td><td> 14.891</td><td>3606</td><td>283</td><td>2</td><td>34</td><td>11</td><td> Male </td><td>No </td><td>Yes</td><td>Caucasian</td><td> 333</td></tr>\n",
              "\t<tr><th scope=row>2</th><td>2</td><td>106.025</td><td>6645</td><td>483</td><td>3</td><td>82</td><td>15</td><td>Female</td><td>Yes</td><td>Yes</td><td>Asian    </td><td> 903</td></tr>\n",
              "\t<tr><th scope=row>3</th><td>3</td><td>104.593</td><td>7075</td><td>514</td><td>4</td><td>71</td><td>11</td><td> Male </td><td>No </td><td>No </td><td>Asian    </td><td> 580</td></tr>\n",
              "\t<tr><th scope=row>4</th><td>4</td><td>148.924</td><td>9504</td><td>681</td><td>3</td><td>36</td><td>11</td><td>Female</td><td>No </td><td>No </td><td>Asian    </td><td> 964</td></tr>\n",
              "\t<tr><th scope=row>5</th><td>5</td><td> 55.882</td><td>4897</td><td>357</td><td>2</td><td>68</td><td>16</td><td> Male </td><td>No </td><td>Yes</td><td>Caucasian</td><td> 331</td></tr>\n",
              "\t<tr><th scope=row>6</th><td>6</td><td> 80.180</td><td>8047</td><td>569</td><td>4</td><td>77</td><td>10</td><td> Male </td><td>No </td><td>No </td><td>Caucasian</td><td>1151</td></tr>\n",
              "</tbody>\n",
              "</table>\n"
            ],
            "text/latex": [
              "A data.frame: 6 x 12\n",
              "\\begin{tabular}{r|llllllllllll}\n",
              "  & ID & Income & Limit & Rating & Cards & Age & Education & Gender & Student & Married & Ethnicity & Balance\\\\\n",
              "  & <int> & <dbl> & <int> & <int> & <int> & <int> & <int> & <fct> & <fct> & <fct> & <fct> & <int>\\\\\n",
              "\\hline\n",
              "\t1 & 1 &  14.891 & 3606 & 283 & 2 & 34 & 11 &  Male  & No  & Yes & Caucasian &  333\\\\\n",
              "\t2 & 2 & 106.025 & 6645 & 483 & 3 & 82 & 15 & Female & Yes & Yes & Asian     &  903\\\\\n",
              "\t3 & 3 & 104.593 & 7075 & 514 & 4 & 71 & 11 &  Male  & No  & No  & Asian     &  580\\\\\n",
              "\t4 & 4 & 148.924 & 9504 & 681 & 3 & 36 & 11 & Female & No  & No  & Asian     &  964\\\\\n",
              "\t5 & 5 &  55.882 & 4897 & 357 & 2 & 68 & 16 &  Male  & No  & Yes & Caucasian &  331\\\\\n",
              "\t6 & 6 &  80.180 & 8047 & 569 & 4 & 77 & 10 &  Male  & No  & No  & Caucasian & 1151\\\\\n",
              "\\end{tabular}\n"
            ],
            "text/markdown": [
              "\n",
              "A data.frame: 6 x 12\n",
              "\n",
              "| <!--/--> | ID &lt;int&gt; | Income &lt;dbl&gt; | Limit &lt;int&gt; | Rating &lt;int&gt; | Cards &lt;int&gt; | Age &lt;int&gt; | Education &lt;int&gt; | Gender &lt;fct&gt; | Student &lt;fct&gt; | Married &lt;fct&gt; | Ethnicity &lt;fct&gt; | Balance &lt;int&gt; |\n",
              "|---|---|---|---|---|---|---|---|---|---|---|---|---|\n",
              "| 1 | 1 |  14.891 | 3606 | 283 | 2 | 34 | 11 |  Male  | No  | Yes | Caucasian |  333 |\n",
              "| 2 | 2 | 106.025 | 6645 | 483 | 3 | 82 | 15 | Female | Yes | Yes | Asian     |  903 |\n",
              "| 3 | 3 | 104.593 | 7075 | 514 | 4 | 71 | 11 |  Male  | No  | No  | Asian     |  580 |\n",
              "| 4 | 4 | 148.924 | 9504 | 681 | 3 | 36 | 11 | Female | No  | No  | Asian     |  964 |\n",
              "| 5 | 5 |  55.882 | 4897 | 357 | 2 | 68 | 16 |  Male  | No  | Yes | Caucasian |  331 |\n",
              "| 6 | 6 |  80.180 | 8047 | 569 | 4 | 77 | 10 |  Male  | No  | No  | Caucasian | 1151 |\n",
              "\n"
            ],
            "text/plain": [
              "  ID Income  Limit Rating Cards Age Education Gender Student Married Ethnicity\n",
              "1 1   14.891 3606  283    2     34  11         Male  No      Yes     Caucasian\n",
              "2 2  106.025 6645  483    3     82  15        Female Yes     Yes     Asian    \n",
              "3 3  104.593 7075  514    4     71  11         Male  No      No      Asian    \n",
              "4 4  148.924 9504  681    3     36  11        Female No      No      Asian    \n",
              "5 5   55.882 4897  357    2     68  16         Male  No      Yes     Caucasian\n",
              "6 6   80.180 8047  569    4     77  10         Male  No      No      Caucasian\n",
              "  Balance\n",
              "1  333   \n",
              "2  903   \n",
              "3  580   \n",
              "4  964   \n",
              "5  331   \n",
              "6 1151   "
            ]
          },
          "metadata": {},
          "output_type": "display_data"
        }
      ],
      "source": [
        "# INSERT CODE HERE\n",
        "head(Credit)"
      ]
    },
    {
      "cell_type": "markdown",
      "metadata": {
        "id": "o_lPlAqrl-k0"
      },
      "source": [
        "We can see that we have a nice **tidy** data frame here. Each column is a separate variable and each row is a different observation (in this case, simulated customers).\n",
        "\n",
        "The code below fits a linear model to predict credit card balance from the card limit and the card owner's credit rating, age, gender, and student status. This model is saved as the `cred_lm` model object. The `summary()` function extracts important summary information from the model object so we can interpret the results."
      ]
    },
    {
      "cell_type": "code",
      "execution_count": null,
      "metadata": {
        "scrolled": false,
        "vscode": {
          "languageId": "r"
        },
        "id": "Upt5WfL6l-k0",
        "outputId": "500e9032-ad15-4a88-9852-91b5173a0447"
      },
      "outputs": [
        {
          "data": {
            "text/plain": [
              "\n",
              "Call:\n",
              "lm(formula = Balance ~ Limit + Rating + Age + Gender + Student, \n",
              "    data = Credit)\n",
              "\n",
              "Residuals:\n",
              "    Min      1Q  Median      3Q     Max \n",
              "-682.49 -127.65    3.92  135.17  453.60 \n",
              "\n",
              "Coefficients:\n",
              "               Estimate Std. Error t value Pr(>|t|)    \n",
              "(Intercept)  -292.49382   48.88704  -5.983 4.92e-09 ***\n",
              "Limit           0.05265    0.05392   0.976 0.329428    \n",
              "Rating          1.80924    0.80462   2.249 0.025092 *  \n",
              "Age            -2.12967    0.57212  -3.722 0.000226 ***\n",
              "GenderFemale   -0.34809   19.63579  -0.018 0.985865    \n",
              "StudentYes    397.16094   32.76189  12.123  < 2e-16 ***\n",
              "---\n",
              "Signif. codes:  0 '***' 0.001 '**' 0.01 '*' 0.05 '.' 0.1 ' ' 1\n",
              "\n",
              "Residual standard error: 195.9 on 394 degrees of freedom\n",
              "Multiple R-squared:  0.8207,\tAdjusted R-squared:  0.8184 \n",
              "F-statistic: 360.6 on 5 and 394 DF,  p-value: < 2.2e-16\n"
            ]
          },
          "metadata": {},
          "output_type": "display_data"
        }
      ],
      "source": [
        "cred_lm  <- lm(Balance ~ Limit + Rating + Age + Gender + Student, Credit)\n",
        "summary(cred_lm)"
      ]
    },
    {
      "cell_type": "markdown",
      "metadata": {
        "id": "iS82AaOml-k1"
      },
      "source": [
        "## 2. Replicating `summary` outputs (5 pts)\n",
        "\n",
        "Let's see if we can replicate some of the values included in the `summary()` output.\n",
        "\n",
        "Let's start with the residual standard error, aka sigma. We can see above that this is 195.9 for this model. You can directly extract sigma as follows:"
      ]
    },
    {
      "cell_type": "code",
      "execution_count": null,
      "metadata": {
        "vscode": {
          "languageId": "r"
        },
        "id": "pPzMLV_ll-k1",
        "outputId": "d35cdb18-e6e7-4f97-b1e5-63eb55fcffc2"
      },
      "outputs": [
        {
          "data": {
            "text/html": [
              "195.920637384065"
            ],
            "text/latex": [
              "195.920637384065"
            ],
            "text/markdown": [
              "195.920637384065"
            ],
            "text/plain": [
              "[1] 195.9206"
            ]
          },
          "metadata": {},
          "output_type": "display_data"
        }
      ],
      "source": [
        "sigma(cred_lm)"
      ]
    },
    {
      "cell_type": "markdown",
      "metadata": {
        "id": "CmvdL0Gil-k1"
      },
      "source": [
        "In `lm`, sigma is calculated as\n",
        "\n",
        "$$ \\sqrt{\\frac{SSE}{n-p}} $$\n",
        "\n",
        "Where SSE is the sum of squared errors, `n` is the number of observations, and `p` is the number of parameters estimated (hint: this includes the intercept). So the denominator boils down to the degrees of freedom.\n",
        "\n",
        "Below, use what you've learned about extracting information from model objects to calculate the SSE and extract `n` and `p`.\n",
        "\n",
        "Hint: remember that R is really good at *vectorized operations*, meaning it easily applies the same operation individually to each element of a given vector."
      ]
    },
    {
      "cell_type": "code",
      "execution_count": null,
      "metadata": {
        "scrolled": true,
        "vscode": {
          "languageId": "r"
        },
        "id": "A5kAlkbfl-k1",
        "outputId": "9687f0d5-87a7-4823-dd48-e9bb9eabed01"
      },
      "outputs": [
        {
          "data": {
            "text/html": [
              "15123649.0842734"
            ],
            "text/latex": [
              "15123649.0842734"
            ],
            "text/markdown": [
              "15123649.0842734"
            ],
            "text/plain": [
              "[1] 15123649"
            ]
          },
          "metadata": {},
          "output_type": "display_data"
        },
        {
          "data": {
            "text/html": [
              "195.920637384065"
            ],
            "text/latex": [
              "195.920637384065"
            ],
            "text/markdown": [
              "195.920637384065"
            ],
            "text/plain": [
              "[1] 195.9206"
            ]
          },
          "metadata": {},
          "output_type": "display_data"
        }
      ],
      "source": [
        "# INSERT CODE HERE\n",
        "# Calculate SSE\n",
        "sse <- sum((cred_lm$residuals)^2)\n",
        "\n",
        "sse\n",
        "\n",
        "p <- length(cred_lm$coefficients)\n",
        "n <- cred_lm$df.residual + p"
      ]
    },
    {
      "cell_type": "markdown",
      "metadata": {
        "id": "cHpuOJ7il-k1"
      },
      "source": [
        "Now, combine your work above to write a function that takes any fitted linear model and returns the residual standard error. Then test your function on the `cred_lm` model object. Compare your answer to sigma extracted directly from the model object."
      ]
    },
    {
      "cell_type": "code",
      "execution_count": null,
      "metadata": {
        "vscode": {
          "languageId": "r"
        },
        "id": "Ukv9-oCAl-k1"
      },
      "outputs": [],
      "source": [
        "# INSERT CODE HERE\n",
        "custom_rse <- function(var){\n",
        "sse <- sum((var$residuals)^2)\n",
        "n <- var$df.residual + p\n",
        "p <- length(var$coefficients)\n",
        "rse <- sqrt(sse/(n-p))\n",
        "return(rse)\n",
        "}"
      ]
    },
    {
      "cell_type": "code",
      "execution_count": null,
      "metadata": {
        "vscode": {
          "languageId": "r"
        },
        "id": "T_V1lYOPl-k2",
        "outputId": "50949127-1f09-46db-c421-732a3bcfc3ec"
      },
      "outputs": [
        {
          "data": {
            "text/html": [
              "195.920637384065"
            ],
            "text/latex": [
              "195.920637384065"
            ],
            "text/markdown": [
              "195.920637384065"
            ],
            "text/plain": [
              "[1] 195.9206"
            ]
          },
          "metadata": {},
          "output_type": "display_data"
        },
        {
          "data": {
            "text/html": [
              "195.920637384065"
            ],
            "text/latex": [
              "195.920637384065"
            ],
            "text/markdown": [
              "195.920637384065"
            ],
            "text/plain": [
              "[1] 195.9206"
            ]
          },
          "metadata": {},
          "output_type": "display_data"
        }
      ],
      "source": [
        "# Test and compare results.\n",
        "\n",
        "custom_rse(cred_lm) #Replace with your own function name\n",
        "sigma(cred_lm)"
      ]
    },
    {
      "cell_type": "markdown",
      "metadata": {
        "id": "AX4B1CxyZXqX"
      },
      "source": [
        "---\n",
        "## 2. Summary table and indexing (4 pts)\n",
        "\n",
        "Let's say we wanted to extract the entire coefficient table provided to us by the `summary()` function above, maybe for use in a publication. You might expect this to be pulled by:"
      ]
    },
    {
      "cell_type": "code",
      "execution_count": null,
      "metadata": {
        "vscode": {
          "languageId": "r"
        },
        "id": "tRHz6oDGl-k2",
        "outputId": "80a52128-aa5d-4c17-c0db-d61eb3dcf66f"
      },
      "outputs": [
        {
          "data": {
            "text/html": [
              "<style>\n",
              ".dl-inline {width: auto; margin:0; padding: 0}\n",
              ".dl-inline>dt, .dl-inline>dd {float: none; width: auto; display: inline-block}\n",
              ".dl-inline>dt::after {content: \":\\0020\"; padding-right: .5ex}\n",
              ".dl-inline>dt:not(:first-of-type) {padding-left: .5ex}\n",
              "</style><dl class=dl-inline><dt>(Intercept)</dt><dd>-292.493823345734</dd><dt>Limit</dt><dd>0.0526549870502961</dd><dt>Rating</dt><dd>1.80924400620418</dd><dt>Age</dt><dd>-2.12966556334804</dd><dt>GenderFemale</dt><dd>-0.348090927305841</dd><dt>StudentYes</dt><dd>397.160939107959</dd></dl>\n"
            ],
            "text/latex": [
              "\\begin{description*}\n",
              "\\item[(Intercept)] -292.493823345734\n",
              "\\item[Limit] 0.0526549870502961\n",
              "\\item[Rating] 1.80924400620418\n",
              "\\item[Age] -2.12966556334804\n",
              "\\item[GenderFemale] -0.348090927305841\n",
              "\\item[StudentYes] 397.160939107959\n",
              "\\end{description*}\n"
            ],
            "text/markdown": [
              "(Intercept)\n",
              ":   -292.493823345734Limit\n",
              ":   0.0526549870502961Rating\n",
              ":   1.80924400620418Age\n",
              ":   -2.12966556334804GenderFemale\n",
              ":   -0.348090927305841StudentYes\n",
              ":   397.160939107959\n",
              "\n"
            ],
            "text/plain": [
              "  (Intercept)         Limit        Rating           Age  GenderFemale \n",
              "-292.49382335    0.05265499    1.80924401   -2.12966556   -0.34809093 \n",
              "   StudentYes \n",
              " 397.16093911 "
            ]
          },
          "metadata": {},
          "output_type": "display_data"
        }
      ],
      "source": [
        "cred_lm$coefficients"
      ]
    },
    {
      "cell_type": "markdown",
      "metadata": {
        "id": "JAEp7E9Fl-k2"
      },
      "source": [
        "But as we saw in the tutorial, this pulls just the variable name and estimate, and not the standard error, t-statistic, or p-value. You could try to find where all this information is stored in the `cred_lm` object using the `str()` function."
      ]
    },
    {
      "cell_type": "code",
      "execution_count": null,
      "metadata": {
        "vscode": {
          "languageId": "r"
        },
        "id": "CUUkcAkKl-k2",
        "outputId": "87306a81-6de6-49bd-8629-96dd9f90e246"
      },
      "outputs": [
        {
          "name": "stdout",
          "output_type": "stream",
          "text": [
            "List of 13\n",
            " $ coefficients : Named num [1:6] -292.4938 0.0527 1.8092 -2.1297 -0.3481 ...\n",
            "  ..- attr(*, \"names\")= chr [1:6] \"(Intercept)\" \"Limit\" \"Rating\" \"Age\" ...\n",
            " $ residuals    : Named num [1:400] -3.99 -250.44 -278.79 -399.02 -135.44 ...\n",
            "  ..- attr(*, \"names\")= chr [1:400] \"1\" \"2\" \"3\" \"4\" ...\n",
            " $ effects      : Named num [1:400] -10400 -7914 -537 -804 129 ...\n",
            "  ..- attr(*, \"names\")= chr [1:400] \"(Intercept)\" \"Limit\" \"Rating\" \"Age\" ...\n",
            " $ rank         : int 6\n",
            " $ fitted.values: Named num [1:400] 337 1153 859 1363 466 ...\n",
            "  ..- attr(*, \"names\")= chr [1:400] \"1\" \"2\" \"3\" \"4\" ...\n",
            " $ assign       : int [1:6] 0 1 2 3 4 5\n",
            " $ qr           :List of 5\n",
            "  ..$ qr   : num [1:400, 1:6] -20 0.05 0.05 0.05 0.05 0.05 0.05 0.05 0.05 0.05 ...\n",
            "  .. ..- attr(*, \"dimnames\")=List of 2\n",
            "  .. .. ..$ : chr [1:400] \"1\" \"2\" \"3\" \"4\" ...\n",
            "  .. .. ..$ : chr [1:6] \"(Intercept)\" \"Limit\" \"Rating\" \"Age\" ...\n",
            "  .. ..- attr(*, \"assign\")= int [1:6] 0 1 2 3 4 5\n",
            "  .. ..- attr(*, \"contrasts\")=List of 2\n",
            "  .. .. ..$ Gender : chr \"contr.treatment\"\n",
            "  .. .. ..$ Student: chr \"contr.treatment\"\n",
            "  ..$ qraux: num [1:6] 1.05 1.04 1.01 1.07 1.05 ...\n",
            "  ..$ pivot: int [1:6] 1 2 3 4 5 6\n",
            "  ..$ tol  : num 1e-07\n",
            "  ..$ rank : int 6\n",
            "  ..- attr(*, \"class\")= chr \"qr\"\n",
            " $ df.residual  : int 394\n",
            " $ contrasts    :List of 2\n",
            "  ..$ Gender : chr \"contr.treatment\"\n",
            "  ..$ Student: chr \"contr.treatment\"\n",
            " $ xlevels      :List of 2\n",
            "  ..$ Gender : chr [1:2] \" Male\" \"Female\"\n",
            "  ..$ Student: chr [1:2] \"No\" \"Yes\"\n",
            " $ call         : language lm(formula = Balance ~ Limit + Rating + Age + Gender + Student, data = Credit)\n",
            " $ terms        :Classes 'terms', 'formula'  language Balance ~ Limit + Rating + Age + Gender + Student\n",
            "  .. ..- attr(*, \"variables\")= language list(Balance, Limit, Rating, Age, Gender, Student)\n",
            "  .. ..- attr(*, \"factors\")= int [1:6, 1:5] 0 1 0 0 0 0 0 0 1 0 ...\n",
            "  .. .. ..- attr(*, \"dimnames\")=List of 2\n",
            "  .. .. .. ..$ : chr [1:6] \"Balance\" \"Limit\" \"Rating\" \"Age\" ...\n",
            "  .. .. .. ..$ : chr [1:5] \"Limit\" \"Rating\" \"Age\" \"Gender\" ...\n",
            "  .. ..- attr(*, \"term.labels\")= chr [1:5] \"Limit\" \"Rating\" \"Age\" \"Gender\" ...\n",
            "  .. ..- attr(*, \"order\")= int [1:5] 1 1 1 1 1\n",
            "  .. ..- attr(*, \"intercept\")= int 1\n",
            "  .. ..- attr(*, \"response\")= int 1\n",
            "  .. ..- attr(*, \".Environment\")=<environment: R_GlobalEnv> \n",
            "  .. ..- attr(*, \"predvars\")= language list(Balance, Limit, Rating, Age, Gender, Student)\n",
            "  .. ..- attr(*, \"dataClasses\")= Named chr [1:6] \"numeric\" \"numeric\" \"numeric\" \"numeric\" ...\n",
            "  .. .. ..- attr(*, \"names\")= chr [1:6] \"Balance\" \"Limit\" \"Rating\" \"Age\" ...\n",
            " $ model        :'data.frame':\t400 obs. of  6 variables:\n",
            "  ..$ Balance: int [1:400] 333 903 580 964 331 1151 203 872 279 1350 ...\n",
            "  ..$ Limit  : int [1:400] 3606 6645 7075 9504 4897 8047 3388 7114 3300 6819 ...\n",
            "  ..$ Rating : int [1:400] 283 483 514 681 357 569 259 512 266 491 ...\n",
            "  ..$ Age    : int [1:400] 34 82 71 36 68 77 37 87 66 41 ...\n",
            "  ..$ Gender : Factor w/ 2 levels \" Male\",\"Female\": 1 2 1 2 1 1 2 1 2 2 ...\n",
            "  ..$ Student: Factor w/ 2 levels \"No\",\"Yes\": 1 2 1 1 1 1 1 1 1 2 ...\n",
            "  ..- attr(*, \"terms\")=Classes 'terms', 'formula'  language Balance ~ Limit + Rating + Age + Gender + Student\n",
            "  .. .. ..- attr(*, \"variables\")= language list(Balance, Limit, Rating, Age, Gender, Student)\n",
            "  .. .. ..- attr(*, \"factors\")= int [1:6, 1:5] 0 1 0 0 0 0 0 0 1 0 ...\n",
            "  .. .. .. ..- attr(*, \"dimnames\")=List of 2\n",
            "  .. .. .. .. ..$ : chr [1:6] \"Balance\" \"Limit\" \"Rating\" \"Age\" ...\n",
            "  .. .. .. .. ..$ : chr [1:5] \"Limit\" \"Rating\" \"Age\" \"Gender\" ...\n",
            "  .. .. ..- attr(*, \"term.labels\")= chr [1:5] \"Limit\" \"Rating\" \"Age\" \"Gender\" ...\n",
            "  .. .. ..- attr(*, \"order\")= int [1:5] 1 1 1 1 1\n",
            "  .. .. ..- attr(*, \"intercept\")= int 1\n",
            "  .. .. ..- attr(*, \"response\")= int 1\n",
            "  .. .. ..- attr(*, \".Environment\")=<environment: R_GlobalEnv> \n",
            "  .. .. ..- attr(*, \"predvars\")= language list(Balance, Limit, Rating, Age, Gender, Student)\n",
            "  .. .. ..- attr(*, \"dataClasses\")= Named chr [1:6] \"numeric\" \"numeric\" \"numeric\" \"numeric\" ...\n",
            "  .. .. .. ..- attr(*, \"names\")= chr [1:6] \"Balance\" \"Limit\" \"Rating\" \"Age\" ...\n",
            " - attr(*, \"class\")= chr \"lm\"\n"
          ]
        }
      ],
      "source": [
        "str(cred_lm)"
      ]
    },
    {
      "cell_type": "markdown",
      "metadata": {
        "id": "1lnfptPRl-k2"
      },
      "source": [
        "But you actually won't find it in there! That's because the information in the coefficient table is a component of `summary()`, not a component of the model object itself. That's right, `summary()` creates it's own object that you can further pull information from.\n",
        "\n",
        "Knowing this, pull the coefficient table from the `summary()` object."
      ]
    },
    {
      "cell_type": "code",
      "execution_count": null,
      "metadata": {
        "vscode": {
          "languageId": "r"
        },
        "id": "0tooboZEl-k2",
        "outputId": "fa4fe433-8370-419c-d98a-f98bd0456e9e"
      },
      "outputs": [
        {
          "data": {
            "text/html": [
              "<table class=\"dataframe\">\n",
              "<caption>A matrix: 6 x 4 of type dbl</caption>\n",
              "<thead>\n",
              "\t<tr><th></th><th scope=col>Estimate</th><th scope=col>Std. Error</th><th scope=col>t value</th><th scope=col>Pr(&gt;|t|)</th></tr>\n",
              "</thead>\n",
              "<tbody>\n",
              "\t<tr><th scope=row>(Intercept)</th><td>-292.49382335</td><td>48.88704367</td><td>-5.98305402</td><td>4.922383e-09</td></tr>\n",
              "\t<tr><th scope=row>Limit</th><td>   0.05265499</td><td> 0.05392354</td><td> 0.97647505</td><td>3.294283e-01</td></tr>\n",
              "\t<tr><th scope=row>Rating</th><td>   1.80924401</td><td> 0.80462003</td><td> 2.24856944</td><td>2.509189e-02</td></tr>\n",
              "\t<tr><th scope=row>Age</th><td>  -2.12966556</td><td> 0.57211502</td><td>-3.72244305</td><td>2.260330e-04</td></tr>\n",
              "\t<tr><th scope=row>GenderFemale</th><td>  -0.34809093</td><td>19.63578922</td><td>-0.01772737</td><td>9.858653e-01</td></tr>\n",
              "\t<tr><th scope=row>StudentYes</th><td> 397.16093911</td><td>32.76189104</td><td>12.12265002</td><td>5.800207e-29</td></tr>\n",
              "</tbody>\n",
              "</table>\n"
            ],
            "text/latex": [
              "A matrix: 6 x 4 of type dbl\n",
              "\\begin{tabular}{r|llll}\n",
              "  & Estimate & Std. Error & t value & Pr(>\\textbar{}t\\textbar{})\\\\\n",
              "\\hline\n",
              "\t(Intercept) & -292.49382335 & 48.88704367 & -5.98305402 & 4.922383e-09\\\\\n",
              "\tLimit &    0.05265499 &  0.05392354 &  0.97647505 & 3.294283e-01\\\\\n",
              "\tRating &    1.80924401 &  0.80462003 &  2.24856944 & 2.509189e-02\\\\\n",
              "\tAge &   -2.12966556 &  0.57211502 & -3.72244305 & 2.260330e-04\\\\\n",
              "\tGenderFemale &   -0.34809093 & 19.63578922 & -0.01772737 & 9.858653e-01\\\\\n",
              "\tStudentYes &  397.16093911 & 32.76189104 & 12.12265002 & 5.800207e-29\\\\\n",
              "\\end{tabular}\n"
            ],
            "text/markdown": [
              "\n",
              "A matrix: 6 x 4 of type dbl\n",
              "\n",
              "| <!--/--> | Estimate | Std. Error | t value | Pr(&gt;|t|) |\n",
              "|---|---|---|---|---|\n",
              "| (Intercept) | -292.49382335 | 48.88704367 | -5.98305402 | 4.922383e-09 |\n",
              "| Limit |    0.05265499 |  0.05392354 |  0.97647505 | 3.294283e-01 |\n",
              "| Rating |    1.80924401 |  0.80462003 |  2.24856944 | 2.509189e-02 |\n",
              "| Age |   -2.12966556 |  0.57211502 | -3.72244305 | 2.260330e-04 |\n",
              "| GenderFemale |   -0.34809093 | 19.63578922 | -0.01772737 | 9.858653e-01 |\n",
              "| StudentYes |  397.16093911 | 32.76189104 | 12.12265002 | 5.800207e-29 |\n",
              "\n"
            ],
            "text/plain": [
              "             Estimate      Std. Error  t value     Pr(>|t|)    \n",
              "(Intercept)  -292.49382335 48.88704367 -5.98305402 4.922383e-09\n",
              "Limit           0.05265499  0.05392354  0.97647505 3.294283e-01\n",
              "Rating          1.80924401  0.80462003  2.24856944 2.509189e-02\n",
              "Age            -2.12966556  0.57211502 -3.72244305 2.260330e-04\n",
              "GenderFemale   -0.34809093 19.63578922 -0.01772737 9.858653e-01\n",
              "StudentYes    397.16093911 32.76189104 12.12265002 5.800207e-29"
            ]
          },
          "metadata": {},
          "output_type": "display_data"
        }
      ],
      "source": [
        "# INSERT CODE HERE\n",
        "#str(summary(cred_lm))\n",
        "\n",
        "(summary(cred_lm))$coefficients"
      ]
    },
    {
      "cell_type": "markdown",
      "metadata": {
        "id": "WhWJyT21l-k2"
      },
      "source": [
        "Maybe we are not interested in including the t-statistic in our final table. Pull **just** the estimate, SE, and p-value from the `summary()` object."
      ]
    },
    {
      "cell_type": "code",
      "execution_count": null,
      "metadata": {
        "vscode": {
          "languageId": "r"
        },
        "id": "RmHFtXe5l-k2",
        "outputId": "dcbcdffc-9474-48e0-ab6e-550e123039e3"
      },
      "outputs": [
        {
          "name": "stdout",
          "output_type": "stream",
          "text": [
            " num [1:6, 1:4] -292.4938 0.0527 1.8092 -2.1297 -0.3481 ...\n",
            " - attr(*, \"dimnames\")=List of 2\n",
            "  ..$ : chr [1:6] \"(Intercept)\" \"Limit\" \"Rating\" \"Age\" ...\n",
            "  ..$ : chr [1:4] \"Estimate\" \"Std. Error\" \"t value\" \"Pr(>|t|)\"\n"
          ]
        },
        {
          "data": {
            "text/html": [
              "<table class=\"dataframe\">\n",
              "<caption>A matrix: 6 x 3 of type dbl</caption>\n",
              "<thead>\n",
              "\t<tr><th></th><th scope=col>Estimate</th><th scope=col>Std. Error</th><th scope=col>Pr(&gt;|t|)</th></tr>\n",
              "</thead>\n",
              "<tbody>\n",
              "\t<tr><th scope=row>(Intercept)</th><td>-292.49382335</td><td>48.88704367</td><td>4.922383e-09</td></tr>\n",
              "\t<tr><th scope=row>Limit</th><td>   0.05265499</td><td> 0.05392354</td><td>3.294283e-01</td></tr>\n",
              "\t<tr><th scope=row>Rating</th><td>   1.80924401</td><td> 0.80462003</td><td>2.509189e-02</td></tr>\n",
              "\t<tr><th scope=row>Age</th><td>  -2.12966556</td><td> 0.57211502</td><td>2.260330e-04</td></tr>\n",
              "\t<tr><th scope=row>GenderFemale</th><td>  -0.34809093</td><td>19.63578922</td><td>9.858653e-01</td></tr>\n",
              "\t<tr><th scope=row>StudentYes</th><td> 397.16093911</td><td>32.76189104</td><td>5.800207e-29</td></tr>\n",
              "</tbody>\n",
              "</table>\n"
            ],
            "text/latex": [
              "A matrix: 6 x 3 of type dbl\n",
              "\\begin{tabular}{r|lll}\n",
              "  & Estimate & Std. Error & Pr(>\\textbar{}t\\textbar{})\\\\\n",
              "\\hline\n",
              "\t(Intercept) & -292.49382335 & 48.88704367 & 4.922383e-09\\\\\n",
              "\tLimit &    0.05265499 &  0.05392354 & 3.294283e-01\\\\\n",
              "\tRating &    1.80924401 &  0.80462003 & 2.509189e-02\\\\\n",
              "\tAge &   -2.12966556 &  0.57211502 & 2.260330e-04\\\\\n",
              "\tGenderFemale &   -0.34809093 & 19.63578922 & 9.858653e-01\\\\\n",
              "\tStudentYes &  397.16093911 & 32.76189104 & 5.800207e-29\\\\\n",
              "\\end{tabular}\n"
            ],
            "text/markdown": [
              "\n",
              "A matrix: 6 x 3 of type dbl\n",
              "\n",
              "| <!--/--> | Estimate | Std. Error | Pr(&gt;|t|) |\n",
              "|---|---|---|---|\n",
              "| (Intercept) | -292.49382335 | 48.88704367 | 4.922383e-09 |\n",
              "| Limit |    0.05265499 |  0.05392354 | 3.294283e-01 |\n",
              "| Rating |    1.80924401 |  0.80462003 | 2.509189e-02 |\n",
              "| Age |   -2.12966556 |  0.57211502 | 2.260330e-04 |\n",
              "| GenderFemale |   -0.34809093 | 19.63578922 | 9.858653e-01 |\n",
              "| StudentYes |  397.16093911 | 32.76189104 | 5.800207e-29 |\n",
              "\n"
            ],
            "text/plain": [
              "             Estimate      Std. Error  Pr(>|t|)    \n",
              "(Intercept)  -292.49382335 48.88704367 4.922383e-09\n",
              "Limit           0.05265499  0.05392354 3.294283e-01\n",
              "Rating          1.80924401  0.80462003 2.509189e-02\n",
              "Age            -2.12966556  0.57211502 2.260330e-04\n",
              "GenderFemale   -0.34809093 19.63578922 9.858653e-01\n",
              "StudentYes    397.16093911 32.76189104 5.800207e-29"
            ]
          },
          "metadata": {},
          "output_type": "display_data"
        }
      ],
      "source": [
        "# INSERT CODE HERE\n",
        "library(tidyverse)\n",
        "table <- (summary(cred_lm)$coefficients)\n",
        "str(table)\n",
        "\n",
        "output <- table[, -3]\n",
        "output"
      ]
    },
    {
      "cell_type": "markdown",
      "metadata": {
        "id": "dc_yCPQcl-k2"
      },
      "source": [
        "Now, pull the table again but drop the `(Intercept)` term. (Don't save and alter your table above -- practice pulling the same table, minus the intercept term, directly from the summary.)"
      ]
    },
    {
      "cell_type": "code",
      "execution_count": null,
      "metadata": {
        "vscode": {
          "languageId": "r"
        },
        "id": "iXQT_Pqhl-k2",
        "outputId": "15597798-6af6-4190-a70e-1dcac10726b3"
      },
      "outputs": [
        {
          "data": {
            "text/html": [
              "<table class=\"dataframe\">\n",
              "<caption>A matrix: 5 x 3 of type dbl</caption>\n",
              "<thead>\n",
              "\t<tr><th></th><th scope=col>Estimate</th><th scope=col>Std. Error</th><th scope=col>Pr(&gt;|t|)</th></tr>\n",
              "</thead>\n",
              "<tbody>\n",
              "\t<tr><th scope=row>Limit</th><td>  0.05265499</td><td> 0.05392354</td><td>3.294283e-01</td></tr>\n",
              "\t<tr><th scope=row>Rating</th><td>  1.80924401</td><td> 0.80462003</td><td>2.509189e-02</td></tr>\n",
              "\t<tr><th scope=row>Age</th><td> -2.12966556</td><td> 0.57211502</td><td>2.260330e-04</td></tr>\n",
              "\t<tr><th scope=row>GenderFemale</th><td> -0.34809093</td><td>19.63578922</td><td>9.858653e-01</td></tr>\n",
              "\t<tr><th scope=row>StudentYes</th><td>397.16093911</td><td>32.76189104</td><td>5.800207e-29</td></tr>\n",
              "</tbody>\n",
              "</table>\n"
            ],
            "text/latex": [
              "A matrix: 5 x 3 of type dbl\n",
              "\\begin{tabular}{r|lll}\n",
              "  & Estimate & Std. Error & Pr(>\\textbar{}t\\textbar{})\\\\\n",
              "\\hline\n",
              "\tLimit &   0.05265499 &  0.05392354 & 3.294283e-01\\\\\n",
              "\tRating &   1.80924401 &  0.80462003 & 2.509189e-02\\\\\n",
              "\tAge &  -2.12966556 &  0.57211502 & 2.260330e-04\\\\\n",
              "\tGenderFemale &  -0.34809093 & 19.63578922 & 9.858653e-01\\\\\n",
              "\tStudentYes & 397.16093911 & 32.76189104 & 5.800207e-29\\\\\n",
              "\\end{tabular}\n"
            ],
            "text/markdown": [
              "\n",
              "A matrix: 5 x 3 of type dbl\n",
              "\n",
              "| <!--/--> | Estimate | Std. Error | Pr(&gt;|t|) |\n",
              "|---|---|---|---|\n",
              "| Limit |   0.05265499 |  0.05392354 | 3.294283e-01 |\n",
              "| Rating |   1.80924401 |  0.80462003 | 2.509189e-02 |\n",
              "| Age |  -2.12966556 |  0.57211502 | 2.260330e-04 |\n",
              "| GenderFemale |  -0.34809093 | 19.63578922 | 9.858653e-01 |\n",
              "| StudentYes | 397.16093911 | 32.76189104 | 5.800207e-29 |\n",
              "\n"
            ],
            "text/plain": [
              "             Estimate     Std. Error  Pr(>|t|)    \n",
              "Limit          0.05265499  0.05392354 3.294283e-01\n",
              "Rating         1.80924401  0.80462003 2.509189e-02\n",
              "Age           -2.12966556  0.57211502 2.260330e-04\n",
              "GenderFemale  -0.34809093 19.63578922 9.858653e-01\n",
              "StudentYes   397.16093911 32.76189104 5.800207e-29"
            ]
          },
          "metadata": {},
          "output_type": "display_data"
        }
      ],
      "source": [
        "# INSERT CODE HERE\n",
        "output[-1, ]"
      ]
    },
    {
      "cell_type": "markdown",
      "metadata": {
        "id": "2slWzsoYGuLt"
      },
      "source": [
        "That's all for Exercise 3! When you are finished, save the notebook as Exercise3.ipynb, push it to your class GitHub repository and send the instructors a link to your notebook via Canvas. You can send messages via Canvas by clicking \"Inbox\" on the left and then pressing the icon with a pencil inside a square."
      ]
    },
    {
      "cell_type": "markdown",
      "metadata": {
        "id": "C4MPECMmZXqe"
      },
      "source": [
        "**DUE:** 5pm EST, Feb 7, 2024"
      ]
    },
    {
      "cell_type": "markdown",
      "metadata": {
        "id": "r9GUofXN4BVy"
      },
      "source": [
        "**IMPORTANT** Did you collaborate with anyone on this assignment? If so, list their names here.\n",
        "> *Someone's Name*"
      ]
    }
  ],
  "metadata": {
    "colab": {
      "provenance": [],
      "toc_visible": true,
      "include_colab_link": true
    },
    "kernelspec": {
      "display_name": "R",
      "language": "R",
      "name": "ir"
    },
    "language_info": {
      "codemirror_mode": "r",
      "file_extension": ".r",
      "mimetype": "text/x-r-source",
      "name": "R",
      "pygments_lexer": "r",
      "version": "4.3.3"
    }
  },
  "nbformat": 4,
  "nbformat_minor": 0
}